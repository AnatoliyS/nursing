{
 "cells": [
  {
   "cell_type": "code",
   "execution_count": 8,
   "metadata": {
    "collapsed": false
   },
   "outputs": [
    {
     "name": "stdout",
     "output_type": "stream",
     "text": [
      "0      data/processed/max/sensors/19/307.csv\n",
      "1      data/processed/max/sensors/19/678.csv\n",
      "2      data/processed/max/sensors/19/696.csv\n",
      "3      data/processed/max/sensors/19/643.csv\n",
      "4      data/processed/max/sensors/19/360.csv\n",
      "                       ...                  \n",
      "818    data/processed/max/sensors/31/196.csv\n",
      "819    data/processed/max/sensors/31/407.csv\n",
      "820     data/processed/max/sensors/31/87.csv\n",
      "821     data/processed/max/sensors/31/40.csv\n",
      "822    data/processed/max/sensors/31/423.csv\n",
      "dtype: object\n"
     ]
    }
   ],
   "source": [
    "import os\n",
    "import ioutils as io\n",
    "import pandas as pd\n",
    "\n",
    "file_paths = io.get_filepaths('data/processed/max/sensors')\n",
    "empty_files = [x for x in file_paths if os.path.getsize(x) == 1]\n",
    "\n",
    "pd.set_option('display.max_rows', 10)\n",
    "print(pd.Series(empty_files))\n",
    "pd.reset_option('display.max_rows')"
   ]
  },
  {
   "cell_type": "code",
   "execution_count": 9,
   "metadata": {
    "collapsed": true
   },
   "outputs": [],
   "source": [
    "for fn in empty_files:\n",
    "    os.remove(fn)"
   ]
  }
 ],
 "metadata": {
  "anaconda-cloud": {},
  "kernelspec": {
   "display_name": "Python [conda env:tf]",
   "language": "python",
   "name": "conda-env-tf-py"
  },
  "language_info": {
   "codemirror_mode": {
    "name": "ipython",
    "version": 3
   },
   "file_extension": ".py",
   "mimetype": "text/x-python",
   "name": "python",
   "nbconvert_exporter": "python",
   "pygments_lexer": "ipython3",
   "version": "3.5.2"
  }
 },
 "nbformat": 4,
 "nbformat_minor": 1
}
