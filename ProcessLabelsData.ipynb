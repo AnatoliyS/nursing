{
 "cells": [
  {
   "cell_type": "code",
   "execution_count": 65,
   "metadata": {
    "collapsed": true
   },
   "outputs": [],
   "source": [
    "import ioutils as io;\n",
    "import matplotlib;\n",
    "import matplotlib.pyplot as plt"
   ]
  },
  {
   "cell_type": "code",
   "execution_count": 66,
   "metadata": {},
   "outputs": [
    {
     "data": {
      "text/plain": [
       "'./data/Labelled/labels/N100_20140219.csv'"
      ]
     },
     "execution_count": 66,
     "metadata": {},
     "output_type": "execute_result"
    }
   ],
   "source": [
    "# Run the above function and store its results in a variable.   \n",
    "full_file_paths = io.get_filepaths(\"./data/Labelled/labels\")\n",
    "full_file_paths[0]"
   ]
  },
  {
   "cell_type": "code",
   "execution_count": 67,
   "metadata": {},
   "outputs": [
    {
     "name": "stdout",
     "output_type": "stream",
     "text": [
      "Labels record created\nLabels record created\nLabels record created\nLabels record created\nLabels record created\nLabels record created\nLabels record created\nLabels record created\nLabels record created\nLabels record created\n"
     ]
    },
    {
     "name": "stdout",
     "output_type": "stream",
     "text": [
      "Labels record created\nLabels record created\nLabels record created\nLabels record created\nLabels record created\nLabels record created\nLabels record created\n"
     ]
    },
    {
     "name": "stdout",
     "output_type": "stream",
     "text": [
      "Labels record created\nLabels record created\nLabels record created\nLabels record created\nLabels record created\nLabels record created\nLabels record created\nLabels record created\nLabels record created\nLabels record created\n"
     ]
    },
    {
     "name": "stdout",
     "output_type": "stream",
     "text": [
      "Labels record created\nLabels record created\nLabels record created\nLabels record created\nLabels record created\nLabels record created\nLabels record created\nLabels record created\n"
     ]
    },
    {
     "name": "stdout",
     "output_type": "stream",
     "text": [
      "Labels record created\nLabels record created\nLabels record created\nLabels record created\nLabels record created\nLabels record created\nLabels record created\nLabels record created\n"
     ]
    },
    {
     "name": "stdout",
     "output_type": "stream",
     "text": [
      "Labels record created\nLabels record created\nLabels record created\nLabels record created\nLabels record created\nLabels record created\nLabels record created\nLabels record created\n"
     ]
    },
    {
     "name": "stdout",
     "output_type": "stream",
     "text": [
      "Labels record created\nLabels record created\nLabels record created\n"
     ]
    }
   ],
   "source": [
    "from record import NurseLables\n",
    "import math\n",
    "actions_with_id = {} # Map actions that has id (action => id)\n",
    "nan_actions = {} # Actions that has no id (action => nan)\n",
    "unique_action_ids = {} # All unique action ids\n",
    "\n",
    "for filepath in full_file_paths:\n",
    "    labels = NurseLables(filepath)\n",
    "    for index, row in labels.frame.iloc[:,[0,1]].iterrows():     \n",
    "        unique_action_ids.setdefault(row['action_id'])\n",
    "        if not math.isnan(row['action_id']):\n",
    "            actions_with_id.setdefault(row['action_name'], row['action_id'])\n",
    "        else:\n",
    "            nan_actions.setdefault(row['action_name'], row['action_id'])"
   ]
  },
  {
   "cell_type": "code",
   "execution_count": 68,
   "metadata": {},
   "outputs": [
    {
     "data": {
      "text/plain": [
       "[1.0,\n 4.0,\n 5.0,\n 8.0,\n 10.0,\n 12.0,\n 13.0,\n 15.0,\n 18.0,\n 19.0,\n 20.0,\n 22.0,\n 23.0,\n 24.0,\n 25.0,\n 27.0,\n 28.0,\n 29.0,\n 31.0,\n 32.0,\n 36.0,\n 37.0,\n 38.0,\n 39.0,\n 41.0,\n 42.0]"
      ]
     },
     "execution_count": 68,
     "metadata": {},
     "output_type": "execute_result"
    }
   ],
   "source": [
    "unique_action_list = [x for x in unique_action_ids.keys() if not math.isnan(x)]\n",
    "unique_action_list.sort()\n",
    "unique_action_list"
   ]
  },
  {
   "cell_type": "code",
   "execution_count": 69,
   "metadata": {},
   "outputs": [
    {
     "data": {
      "text/plain": [
       "({'アナムネ': 1.0,\n  'バストバンド装着': 27.0,\n  'ベッド運搬': 38.0,\n  'ポータブルX線': 28.0,\n  '体位交換': 31.0,\n  '体重測定': 5.0,\n  '全身清拭': 32.0,\n  '創部付け替え': 29.0,\n  '動脈触知': 19.0,\n  '医師処置介助': 18.0,\n  '心電モニター除去': 25.0,\n  '心電図モニター装着': 24.0,\n  '心電図検査': 23.0,\n  '手洗い': 39.0,\n  '採血': 10.0,\n  '時刻同期': 42.0,\n  '歩行介助': 37.0,\n  '浮腫診察': 20.0,\n  '点滴ライン交換': 15.0,\n  '点滴静注終了': 13.0,\n  '点滴静注開始': 12.0,\n  '看護記録': 41.0,\n  '血圧測定': 8.0,\n  '褥瘡確認': 22.0,\n  '身体測定': 4.0,\n  '車いす介助': 36.0},\n {'Satモニター': nan,\n  'おむつ交換': nan,\n  'その他': nan,\n  'カンファ': nan,\n  'ギャッジUP': nan,\n  'スケジュール調整': nan,\n  '与薬': nan,\n  '体温測定': nan,\n  '入浴介助': nan,\n  '報告連絡相談調整': nan,\n  '安楽': nan,\n  '尿道留置カテ抜去': nan,\n  '排泄ベッドサイド': nan,\n  '排泄ベッド上': nan,\n  '環境操作': nan,\n  '看護師休憩': nan,\n  '身の周りの世話': nan,\n  '配薬準備': nan,\n  '食事ケア': nan})"
      ]
     },
     "execution_count": 69,
     "metadata": {},
     "output_type": "execute_result"
    }
   ],
   "source": [
    "actions_with_id, nan_actions"
   ]
  },
  {
   "cell_type": "code",
   "execution_count": 70,
   "metadata": {},
   "outputs": [
    {
     "data": {
      "text/plain": [
       "set()"
      ]
     },
     "execution_count": 70,
     "metadata": {},
     "output_type": "execute_result"
    }
   ],
   "source": [
    "# intersection of two sets\n",
    "actions_with_id.keys() & nan_actions.keys()"
   ]
  },
  {
   "cell_type": "code",
   "execution_count": 73,
   "metadata": {},
   "outputs": [],
   "source": [
    "# solution is to assign each action with no id some new id, that is not used\n",
    "new_id = 100\n",
    "for key in nan_actions.keys():\n",
    "    nan_actions[key] = new_id\n",
    "    new_id = new_id + 1"
   ]
  },
  {
   "cell_type": "code",
   "execution_count": 72,
   "metadata": {},
   "outputs": [
    {
     "data": {
      "text/plain": [
       "{'Satモニター': 102,\n 'おむつ交換': 104,\n 'その他': 106,\n 'カンファ': 118,\n 'ギャッジUP': 101,\n 'スケジュール調整': 117,\n '与薬': 111,\n '体温測定': 105,\n '入浴介助': 113,\n '報告連絡相談調整': 110,\n '安楽': 103,\n '尿道留置カテ抜去': 107,\n '排泄ベッドサイド': 100,\n '排泄ベッド上': 109,\n '環境操作': 108,\n '看護師休憩': 116,\n '身の周りの世話': 115,\n '配薬準備': 114,\n '食事ケア': 112}"
      ]
     },
     "execution_count": 72,
     "metadata": {},
     "output_type": "execute_result"
    }
   ],
   "source": [
    "nan_actions"
   ]
  },
  {
   "cell_type": "code",
   "execution_count": 73,
   "metadata": {},
   "outputs": [],
   "source": [
    ""
   ]
  },
  {
   "cell_type": "code",
   "execution_count": 73,
   "metadata": {},
   "outputs": [],
   "source": [
    ""
   ]
  }
 ],
 "metadata": {
  "kernelspec": {
   "display_name": "Python 2",
   "language": "python",
   "name": "python2"
  },
  "language_info": {
   "codemirror_mode": {
    "name": "ipython",
    "version": 2.0
   },
   "file_extension": ".py",
   "mimetype": "text/x-python",
   "name": "python",
   "nbconvert_exporter": "python",
   "pygments_lexer": "ipython2",
   "version": "2.7.6"
  }
 },
 "nbformat": 4,
 "nbformat_minor": 0
}