{
 "cells": [
  {
   "cell_type": "code",
   "execution_count": 6,
   "metadata": {
    "collapsed": true
   },
   "outputs": [],
   "source": [
    "import pandas as pd\n",
    "import ioutils as io\n",
    "import matplotlib.pyplot as plt\n",
    "import numpy as np"
   ]
  },
  {
   "cell_type": "code",
   "execution_count": 47,
   "metadata": {},
   "outputs": [
    {
     "name": "stdout",
     "output_type": "stream",
     "text": [
      "./data/Unlabelled/sensors/138.csv\npoints = 1152000\nduration = 57599.95 seconds\n"
     ]
    },
    {
     "data": {
      "image/png": "[encoded data removed]",
      "text/plain": [
       "<matplotlib.figure.Figure at 0x7f263ad3ae48>"
      ]
     },
     "metadata": {},
     "output_type": "display_data"
    },
    {
     "data": {
      "image/png": "[encoded data removed]",
      "text/plain": [
       "<matplotlib.figure.Figure at 0x7f263ad4f748>"
      ]
     },
     "metadata": {},
     "output_type": "display_data"
    },
    {
     "name": "stdout",
     "output_type": "stream",
     "text": [
      "highest correlation = 0\naverage duration = 57599.95\n"
     ]
    }
   ],
   "source": [
    "# id to examine\n",
    "import itertools\n",
    "\n",
    "action_id = 1\n",
    "full_file_paths = io.get_filepaths(\"./data/Unlabelled/sensors/\")[:1] #+ str(action_id))\n",
    "\n",
    "avg_duration = 0\n",
    "samples = len(full_file_paths)\n",
    "time_series = []\n",
    "for filepath in full_file_paths:\n",
    "    frame = pd.read_csv(filepath)\n",
    "    print(filepath)\n",
    "    size = frame.shape[0]\n",
    "    print('points = ' + str(size))\n",
    "    duration = (frame.iloc[size-1,0] - frame.iloc[0,0])\n",
    "    avg_duration += duration\n",
    "    print('duration = ' + str(duration) + ' seconds')\n",
    "    plt.figure()\n",
    "    plt.plot(frame.iloc[:,0], frame.iloc[:,1])\n",
    "    #plt.plot(frame.iloc[:,0], frame.iloc[:,2])\n",
    "    #plt.plot(frame.iloc[:,0], frame.iloc[:,3])\n",
    "    #plt.plot(frame.iloc[:,0], frame.iloc[:,4])\n",
    "    #plt.plot(frame.iloc[:,0], frame.iloc[:,5])\n",
    "    #plt.plot(frame.iloc[:,0], frame.iloc[:,6])\n",
    "    #plt.plot(frame.iloc[:,0], frame.iloc[:,7])\n",
    "    def fft_discard(x):\n",
    "        xt = np.fft.fft(x)\n",
    "        pos = len(xt)*1//20\n",
    "        xt[pos:] = 0\n",
    "        return np.abs(np.fft.ifft(xt))\n",
    "    #plt.ylim((0.5,1))\n",
    "    #plt.plot(frame.iloc[:,0], fft_discard(frame.iloc[:,1:9].pow(2).sum(1).pow(0.5)))\n",
    "    #plt.plot(frame.iloc[:,0], fft_discard(frame.iloc[:,4:6].pow(2).sum(1).pow(0.5)))\n",
    "    #plt.plot(frame.iloc[:,0], fft_discard(frame.iloc[:,7:9].pow(2).sum(1).pow(0.5)))\n",
    "    #plt.plot(frame.iloc[:,0], fft_discard(frame.iloc[:,8]))\n",
    "    #plt.plot(frame.iloc[:,0], fft_discard(frame.iloc[:,9]))\n",
    "    #time_series.append(frame.iloc[:,9])\n",
    "    plt.show()\n",
    "\n",
    "corr = 0\n",
    "for pair in itertools.combinations(time_series,2):\n",
    "    series1 = pair[0]\n",
    "    series2 = pair[1]\n",
    "    cross_v = np.correlate(series1,series2,'full')\n",
    "    #print(cross_v)\n",
    "    corr = max(corr, cross_v.max())\n",
    "print('highest correlation = ' + str(corr))\n",
    "print('average duration = ' + str(avg_duration / samples))"
   ]
  },
  {
   "cell_type": "code",
   "execution_count": 4,
   "metadata": {},
   "outputs": [],
   "source": [
    ""
   ]
  }
 ],
 "metadata": {
  "kernelspec": {
   "display_name": "Python 2",
   "language": "python",
   "name": "python2"
  },
  "language_info": {
   "codemirror_mode": {
    "name": "ipython",
    "version": 2.0
   },
   "file_extension": ".py",
   "mimetype": "text/x-python",
   "name": "python",
   "nbconvert_exporter": "python",
   "pygments_lexer": "ipython2",
   "version": "2.7.6"
  }
 },
 "nbformat": 4,
 "nbformat_minor": 0
}