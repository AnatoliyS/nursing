{
 "cells": [
  {
   "cell_type": "code",
   "execution_count": 7,
   "metadata": {
    "collapsed": true
   },
   "outputs": [],
   "source": [
    "import ioutils as io;\n",
    "import matplotlib;\n",
    "import matplotlib.pyplot as plt"
   ]
  },
  {
   "cell_type": "code",
   "execution_count": 8,
   "metadata": {},
   "outputs": [],
   "source": [
    "# Run the above function and store its results in a variable.   \n",
    "labels_file_paths = io.get_filepaths(\"./data/processed/Labelled/labels\")\n",
    "sensors_file_paths = io.get_filepaths(\"./data/Labelled/sensors\")"
   ]
  },
  {
   "cell_type": "code",
   "execution_count": 9,
   "metadata": {},
   "outputs": [
    {
     "name": "stdout",
     "output_type": "stream",
     "text": [
      "Labels record created (file \"./data/processed/Labelled/labels/N100_20140219.csv\")\nLabels record created (file \"./data/processed/Labelled/labels/N050_20140221.csv\")\nLabels record created (file \"./data/processed/Labelled/labels/N064_20140220.csv\")\nLabels record created (file \"./data/processed/Labelled/labels/N205_20140228.csv\")\nLabels record created (file \"./data/processed/Labelled/labels/N064_20140210.csv\")\nLabels record created (file \"./data/processed/Labelled/labels/N066_20140228.csv\")\nLabels record created (file \"./data/processed/Labelled/labels/N105_20140226.csv\")\nLabels record created (file \"./data/processed/Labelled/labels/N202_20140213.csv\")\nLabels record created (file \"./data/processed/Labelled/labels/N099_20140214.csv\")\nLabels record created (file \"./data/processed/Labelled/labels/N013_20140217.csv\")\nLabels record created (file \"./data/processed/Labelled/labels/N031_20140221.csv\")\nLabels record created (file \"./data/processed/Labelled/labels/N052_20140224.csv\")\nLabels record created (file \"./data/processed/Labelled/labels/N030_20140220.csv\")\nLabels record created (file \"./data/processed/Labelled/labels/N027_20140226.csv\")\nLabels record created (file \"./data/processed/Labelled/labels/N068_20140213.csv\")\nLabels record created (file \"./data/processed/Labelled/labels/N097_20140227.csv\")\nLabels record created (file \"./data/processed/Labelled/labels/N107_20140225.csv\")\nLabels record created (file \"./data/processed/Labelled/labels/N061_20140221.csv\")\nLabels record created (file \"./data/processed/Labelled/labels/N068_20140219.csv\")\nLabels record created (file \"./data/processed/Labelled/labels/N106_20140225.csv\")\nLabels record created (file \"./data/processed/Labelled/labels/N202_20140219.csv\")\nLabels record created (file \"./data/processed/Labelled/labels/N098_20140221.csv\")\nLabels record created (file \"./data/processed/Labelled/labels/N014_20140210.csv\")\nLabels record created (file \"./data/processed/Labelled/labels/N067_20140212.csv\")\nLabels record created (file \"./data/processed/Labelled/labels/N203_20140224.csv\")\nLabels record created (file \"./data/processed/Labelled/labels/N045_20140227.csv\")\nLabels record created (file \"./data/processed/Labelled/labels/N061_20140217.csv\")\nLabels record created (file \"./data/processed/Labelled/labels/N027_20140214.csv\")\nLabels record created (file \"./data/processed/Labelled/labels/N099_20140228.csv\")\nLabels record created (file \"./data/processed/Labelled/labels/N041_20140219.csv\")\nLabels record created (file \"./data/processed/Labelled/labels/N042_20140212.csv\")\nLabels record created (file \"./data/processed/Labelled/labels/N027_20140218.csv\")\nLabels record created (file \"./data/processed/Labelled/labels/N043_20140213.csv\")\nLabels record created (file \"./data/processed/Labelled/labels/N061_20140227.csv\")\nLabels record created (file \"./data/processed/Labelled/labels/N046_20140210.csv\")\nLabels record created (file \"./data/processed/Labelled/labels/N030_20140225.csv\")\nLabels record created (file \"./data/processed/Labelled/labels/N080_20140226.csv\")\nLabels record created (file \"./data/processed/Labelled/labels/N066_20140214.csv\")\nLabels record created (file \"./data/processed/Labelled/labels/N201_20140214.csv\")\nLabels record created (file \"./data/processed/Labelled/labels/N042_20140227.csv\")\nLabels record created (file \"./data/processed/Labelled/labels/N100_20140224.csv\")\nLabels record created (file \"./data/processed/Labelled/labels/N098_20140217.csv\")\nLabels record created (file \"./data/processed/Labelled/labels/N103_20140213.csv\")\nLabels record created (file \"./data/processed/Labelled/labels/N201_20140220.csv\")\nLabels record created (file \"./data/processed/Labelled/labels/N098_20140210.csv\")\nLabels record created (file \"./data/processed/Labelled/labels/N107_20140220.csv\")\nLabels record created (file \"./data/processed/Labelled/labels/N042_20140218.csv\")\nLabels record created (file \"./data/processed/Labelled/labels/N201_20140225.csv\")\nLabels record created (file \"./data/processed/Labelled/labels/N013_20140224.csv\")\nLabels record created (file \"./data/processed/Labelled/labels/N050_20140212.csv\")\nLabels record created (file \"./data/processed/Labelled/labels/N031_20140226.csv\")\nLabels record created (file \"./data/processed/Labelled/labels/N031_20140217.csv\")\nLabels record created (file \"./data/processed/Labelled/labels/N100_20140212.csv\")\nLabels record created (file \"./data/processed/Labelled/labels/N046_20140228.csv\")\n"
     ]
    },
    {
     "name": "stdout",
     "output_type": "stream",
     "text": [
      "Nurse sensors record created (file \"./data/Labelled/sensors/N100_20140219_080854-081034.csv\")\nNurse sensors record created (file \"./data/Labelled/sensors/N098_20140210_081826-082203.csv\")\n"
     ]
    },
    {
     "name": "stdout",
     "output_type": "stream",
     "text": [
      "Nurse sensors record created (file \"./data/Labelled/sensors/N201_20140214_084543-105911.csv\")\n"
     ]
    },
    {
     "name": "stdout",
     "output_type": "stream",
     "text": [
      "Nurse sensors record created (file \"./data/Labelled/sensors/N030_20140225_084722-110712.csv\")\nNurse sensors record created (file \"./data/Labelled/sensors/N068_20140213_080029-080250.csv\")\n"
     ]
    },
    {
     "name": "stdout",
     "output_type": "stream",
     "text": [
      "Nurse sensors record created (file \"./data/Labelled/sensors/N067_20140212_084649-172210.csv\")\nNurse sensors record created (file \"./data/Labelled/sensors/N107_20140220_195419-195537.csv\")\n"
     ]
    },
    {
     "name": "stdout",
     "output_type": "stream",
     "text": [
      "Nurse sensors record created (file \"./data/Labelled/sensors/N042_20140218_115014-164551.csv\")\n"
     ]
    },
    {
     "name": "stdout",
     "output_type": "stream",
     "text": [
      "Nurse sensors record created (file \"./data/Labelled/sensors/N203_20140224_084458-170047.csv\")\nNurse sensors record created (file \"./data/Labelled/sensors/N067_20140212_190548-191102.csv\")\n"
     ]
    },
    {
     "name": "stdout",
     "output_type": "stream",
     "text": [
      "Nurse sensors record created (file \"./data/Labelled/sensors/N107_20140225_085100-175514.csv\")\nNurse sensors record created (file \"./data/Labelled/sensors/N066_20140214_191612-192218.csv\")\nNurse sensors record created (file \"./data/Labelled/sensors/N201_20140225_162026-165957.csv\")\nNurse sensors record created (file \"./data/Labelled/sensors/N027_20140218_205953-210043.csv\")\n"
     ]
    },
    {
     "name": "stdout",
     "output_type": "stream",
     "text": [
      "Nurse sensors record created (file \"./data/Labelled/sensors/N061_20140217_085103-170638.csv\")\n"
     ]
    },
    {
     "name": "stdout",
     "output_type": "stream",
     "text": [
      "Nurse sensors record created (file \"./data/Labelled/sensors/N014_20140210_084417-112824.csv\")\nNurse sensors record created (file \"./data/Labelled/sensors/N201_20140214_191611-192200.csv\")\n"
     ]
    },
    {
     "name": "stdout",
     "output_type": "stream",
     "text": [
      "Nurse sensors record created (file \"./data/Labelled/sensors/N031_20140217_091125-115939.csv\")\nNurse sensors record created (file \"./data/Labelled/sensors/N202_20140213_162806-165905.csv\")\n"
     ]
    },
    {
     "name": "stdout",
     "output_type": "stream",
     "text": [
      "Nurse sensors record created (file \"./data/Labelled/sensors/N031_20140217_121601-152559.csv\")\nNurse sensors record created (file \"./data/Labelled/sensors/N031_20140217_084313-084717.csv\")\n"
     ]
    },
    {
     "name": "stdout",
     "output_type": "stream",
     "text": [
      "Nurse sensors record created (file \"./data/Labelled/sensors/N100_20140212_084613-172252.csv\")\nNurse sensors record created (file \"./data/Labelled/sensors/N050_20140212_162520-165954.csv\")\n"
     ]
    },
    {
     "name": "stdout",
     "output_type": "stream",
     "text": [
      "Nurse sensors record created (file \"./data/Labelled/sensors/N027_20140218_084003-115725.csv\")\n"
     ]
    },
    {
     "name": "stdout",
     "output_type": "stream",
     "text": [
      "Nurse sensors record created (file \"./data/Labelled/sensors/N201_20140225_121607-154958.csv\")\nNurse sensors record created (file \"./data/Labelled/sensors/N098_20140210_202541-202835.csv\")\n"
     ]
    },
    {
     "name": "stdout",
     "output_type": "stream",
     "text": [
      "Nurse sensors record created (file \"./data/Labelled/sensors/N043_20140213_121913-155020.csv\")\nNurse sensors record created (file \"./data/Labelled/sensors/N046_20140210_081827-082141.csv\")\n"
     ]
    },
    {
     "name": "stdout",
     "output_type": "stream",
     "text": [
      "Nurse sensors record created (file \"./data/Labelled/sensors/N202_20140213_132716-160726.csv\")\nNurse sensors record created (file \"./data/Labelled/sensors/N098_20140217_083635-083910.csv\")\n"
     ]
    },
    {
     "name": "stdout",
     "output_type": "stream",
     "text": [
      "Nurse sensors record created (file \"./data/Labelled/sensors/N066_20140228_084447-175905.csv\")\nNurse sensors record created (file \"./data/Labelled/sensors/N030_20140220_165045-170110.csv\")\n"
     ]
    },
    {
     "name": "stdout",
     "output_type": "stream",
     "text": [
      "Nurse sensors record created (file \"./data/Labelled/sensors/N061_20140227_083522-171024.csv\")\n"
     ]
    },
    {
     "name": "stdout",
     "output_type": "stream",
     "text": [
      "Nurse sensors record created (file \"./data/Labelled/sensors/N103_20140213_084721-180123.csv\")\nNurse sensors record created (file \"./data/Labelled/sensors/N041_20140219_080854-081034.csv\")\n"
     ]
    },
    {
     "name": "stdout",
     "output_type": "stream",
     "text": [
      "Nurse sensors record created (file \"./data/Labelled/sensors/N013_20140224_133248-181707.csv\")\n"
     ]
    },
    {
     "name": "stdout",
     "output_type": "stream",
     "text": [
      "Nurse sensors record created (file \"./data/Labelled/sensors/N030_20140225_120531-155952.csv\")\n"
     ]
    },
    {
     "name": "stdout",
     "output_type": "stream",
     "text": [
      "Nurse sensors record created (file \"./data/Labelled/sensors/N201_20140214_125441-154633.csv\")\n"
     ]
    },
    {
     "name": "stdout",
     "output_type": "stream",
     "text": [
      "Nurse sensors record created (file \"./data/Labelled/sensors/N042_20140218_084040-114738.csv\")\n"
     ]
    },
    {
     "name": "stdout",
     "output_type": "stream",
     "text": [
      "Nurse sensors record created (file \"./data/Labelled/sensors/N201_20140220_083626-112511.csv\")\n"
     ]
    },
    {
     "name": "stdout",
     "output_type": "stream",
     "text": [
      "Nurse sensors record created (file \"./data/Labelled/sensors/N066_20140214_084400-170004.csv\")\n"
     ]
    },
    {
     "name": "stdout",
     "output_type": "stream",
     "text": [
      "Nurse sensors record created (file \"./data/Labelled/sensors/N031_20140226_084911-112140.csv\")\n"
     ]
    },
    {
     "name": "stdout",
     "output_type": "stream",
     "text": [
      "Nurse sensors record created (file \"./data/Labelled/sensors/N046_20140228_121627-172646.csv\")\n"
     ]
    },
    {
     "name": "stdout",
     "output_type": "stream",
     "text": [
      "Nurse sensors record created (file \"./data/Labelled/sensors/N042_20140212_121233-160047.csv\")\n"
     ]
    },
    {
     "name": "stdout",
     "output_type": "stream",
     "text": [
      "Nurse sensors record created (file \"./data/Labelled/sensors/N105_20140226_085020-181134.csv\")\n"
     ]
    },
    {
     "name": "stdout",
     "output_type": "stream",
     "text": [
      "Nurse sensors record created (file \"./data/Labelled/sensors/N041_20140219_085024-120903.csv\")\nNurse sensors record created (file \"./data/Labelled/sensors/N201_20140220_195410-195522.csv\")\nNurse sensors record created (file \"./data/Labelled/sensors/N202_20140213_080027-080300.csv\")\n"
     ]
    },
    {
     "name": "stdout",
     "output_type": "stream",
     "text": [
      "Nurse sensors record created (file \"./data/Labelled/sensors/N202_20140213_084731-110935.csv\")\nNurse sensors record created (file \"./data/Labelled/sensors/N202_20140219_080858-081015.csv\")\nNurse sensors record created (file \"./data/Labelled/sensors/N046_20140210_165251-174438.csv\")\n"
     ]
    },
    {
     "name": "stdout",
     "output_type": "stream",
     "text": [
      "Nurse sensors record created (file \"./data/Labelled/sensors/N041_20140219_120908-161322.csv\")\n"
     ]
    },
    {
     "name": "stdout",
     "output_type": "stream",
     "text": [
      "Nurse sensors record created (file \"./data/Labelled/sensors/N064_20140210_090806-171149.csv\")\n"
     ]
    },
    {
     "name": "stdout",
     "output_type": "stream",
     "text": [
      "Nurse sensors record created (file \"./data/Labelled/sensors/N030_20140220_083647-110533.csv\")\n"
     ]
    },
    {
     "name": "stdout",
     "output_type": "stream",
     "text": [
      "Nurse sensors record created (file \"./data/Labelled/sensors/N068_20140219_132250-175755.csv\")\nNurse sensors record created (file \"./data/Labelled/sensors/N014_20140210_202534-202819.csv\")\n"
     ]
    },
    {
     "name": "stdout",
     "output_type": "stream",
     "text": [
      "Nurse sensors record created (file \"./data/Labelled/sensors/N202_20140213_120323-132712.csv\")\n"
     ]
    },
    {
     "name": "stdout",
     "output_type": "stream",
     "text": [
      "Nurse sensors record created (file \"./data/Labelled/sensors/N031_20140226_120306-153532.csv\")\n"
     ]
    },
    {
     "name": "stdout",
     "output_type": "stream",
     "text": [
      "Nurse sensors record created (file \"./data/Labelled/sensors/N045_20140227_120100-154159.csv\")\n"
     ]
    },
    {
     "name": "stdout",
     "output_type": "stream",
     "text": [
      "Nurse sensors record created (file \"./data/Labelled/sensors/N027_20140214_082849-165240.csv\")\nNurse sensors record created (file \"./data/Labelled/sensors/N030_20140225_162755-171445.csv\")\n"
     ]
    },
    {
     "name": "stdout",
     "output_type": "stream",
     "text": [
      "Nurse sensors record created (file \"./data/Labelled/sensors/N061_20140221_084755-180339.csv\")\n"
     ]
    },
    {
     "name": "stdout",
     "output_type": "stream",
     "text": [
      "Nurse sensors record created (file \"./data/Labelled/sensors/N013_20140217_081011-081201.csv\")\nNurse sensors record created (file \"./data/Labelled/sensors/N031_20140217_081024-081143.csv\")\n"
     ]
    },
    {
     "name": "stdout",
     "output_type": "stream",
     "text": [
      "Nurse sensors record created (file \"./data/Labelled/sensors/N031_20140226_160252-165717.csv\")\n"
     ]
    },
    {
     "name": "stdout",
     "output_type": "stream",
     "text": [
      "Nurse sensors record created (file \"./data/Labelled/sensors/N201_20140220_115328-121707.csv\")\nNurse sensors record created (file \"./data/Labelled/sensors/N100_20140212_190545-191007.csv\")\n"
     ]
    },
    {
     "name": "stdout",
     "output_type": "stream",
     "text": [
      "Nurse sensors record created (file \"./data/Labelled/sensors/N050_20140221_161649-170058.csv\")\nNurse sensors record created (file \"./data/Labelled/sensors/N201_20140225_100704-111521.csv\")\n"
     ]
    },
    {
     "name": "stdout",
     "output_type": "stream",
     "text": [
      "Nurse sensors record created (file \"./data/Labelled/sensors/N042_20140212_085121-113858.csv\")\n"
     ]
    },
    {
     "name": "stdout",
     "output_type": "stream",
     "text": [
      "Nurse sensors record created (file \"./data/Labelled/sensors/N068_20140219_084048-123025.csv\")\nNurse sensors record created (file \"./data/Labelled/sensors/N030_20140220_195322-195652.csv\")\n"
     ]
    },
    {
     "name": "stdout",
     "output_type": "stream",
     "text": [
      "Nurse sensors record created (file \"./data/Labelled/sensors/N201_20140220_125406-153724.csv\")\n"
     ]
    },
    {
     "name": "stdout",
     "output_type": "stream",
     "text": [
      "Nurse sensors record created (file \"./data/Labelled/sensors/N201_20140214_115414-125400.csv\")\nNurse sensors record created (file \"./data/Labelled/sensors/N046_20140210_202543-202840.csv\")\nNurse sensors record created (file \"./data/Labelled/sensors/N027_20140214_191611-192200.csv\")\n"
     ]
    },
    {
     "name": "stdout",
     "output_type": "stream",
     "text": [
      "Nurse sensors record created (file \"./data/Labelled/sensors/N042_20140212_162352-173021.csv\")\nNurse sensors record created (file \"./data/Labelled/sensors/N103_20140213_080028-080303.csv\")\nNurse sensors record created (file \"./data/Labelled/sensors/N064_20140210_202536-202825.csv\")\nNurse sensors record created (file \"./data/Labelled/sensors/N064_20140220_195403-195552.csv\")\n"
     ]
    },
    {
     "name": "stdout",
     "output_type": "stream",
     "text": [
      "Nurse sensors record created (file \"./data/Labelled/sensors/N031_20140221_084836-173849.csv\")\nNurse sensors record created (file \"./data/Labelled/sensors/N050_20140212_190533-191021.csv\")\n"
     ]
    },
    {
     "name": "stdout",
     "output_type": "stream",
     "text": [
      "Nurse sensors record created (file \"./data/Labelled/sensors/N014_20140210_122456-161137.csv\")\nNurse sensors record created (file \"./data/Labelled/sensors/N099_20140214_191608-192142.csv\")\nNurse sensors record created (file \"./data/Labelled/sensors/N201_20140214_161132-170307.csv\")\nNurse sensors record created (file \"./data/Labelled/sensors/N064_20140210_081826-082144.csv\")\n"
     ]
    },
    {
     "name": "stdout",
     "output_type": "stream",
     "text": [
      "Nurse sensors record created (file \"./data/Labelled/sensors/N043_20140213_084522-111143.csv\")\nNurse sensors record created (file \"./data/Labelled/sensors/N042_20140218_205952-210054.csv\")\nNurse sensors record created (file \"./data/Labelled/sensors/N043_20140213_080031-080307.csv\")\n"
     ]
    },
    {
     "name": "stdout",
     "output_type": "stream",
     "text": [
      "Nurse sensors record created (file \"./data/Labelled/sensors/N098_20140210_090803-171210.csv\")\n"
     ]
    },
    {
     "name": "stdout",
     "output_type": "stream",
     "text": [
      "Nurse sensors record created (file \"./data/Labelled/sensors/N205_20140228_121140-154455.csv\")\nNurse sensors record created (file \"./data/Labelled/sensors/N043_20140213_163712-165604.csv\")\n"
     ]
    },
    {
     "name": "stdout",
     "output_type": "stream",
     "text": [
      "Nurse sensors record created (file \"./data/Labelled/sensors/N099_20140228_084151-180720.csv\")\nNurse sensors record created (file \"./data/Labelled/sensors/N201_20140220_124334-125243.csv\")\n"
     ]
    },
    {
     "name": "stdout",
     "output_type": "stream",
     "text": [
      "Nurse sensors record created (file \"./data/Labelled/sensors/N205_20140228_084242-111007.csv\")\n"
     ]
    },
    {
     "name": "stdout",
     "output_type": "stream",
     "text": [
      "Nurse sensors record created (file \"./data/Labelled/sensors/N050_20140212_121121-160515.csv\")\n"
     ]
    },
    {
     "name": "stdout",
     "output_type": "stream",
     "text": [
      "Nurse sensors record created (file \"./data/Labelled/sensors/N046_20140210_120520-162331.csv\")\nNurse sensors record created (file \"./data/Labelled/sensors/N042_20140212_190534-191012.csv\")\n"
     ]
    },
    {
     "name": "stdout",
     "output_type": "stream",
     "text": [
      "Nurse sensors record created (file \"./data/Labelled/sensors/N050_20140221_084853-110601.csv\")\n"
     ]
    },
    {
     "name": "stdout",
     "output_type": "stream",
     "text": [
      "Nurse sensors record created (file \"./data/Labelled/sensors/N099_20140214_084122-165914.csv\")\n"
     ]
    },
    {
     "name": "stdout",
     "output_type": "stream",
     "text": [
      "Nurse sensors record created (file \"./data/Labelled/sensors/N030_20140220_120432-161702.csv\")\n"
     ]
    },
    {
     "name": "stdout",
     "output_type": "stream",
     "text": [
      "Nurse sensors record created (file \"./data/Labelled/sensors/N027_20140226_085042-165159.csv\")\nNurse sensors record created (file \"./data/Labelled/sensors/N098_20140217_081008-081152.csv\")\n"
     ]
    },
    {
     "name": "stdout",
     "output_type": "stream",
     "text": [
      "Nurse sensors record created (file \"./data/Labelled/sensors/N050_20140212_085040-111324.csv\")\n"
     ]
    },
    {
     "name": "stdout",
     "output_type": "stream",
     "text": [
      "Nurse sensors record created (file \"./data/Labelled/sensors/N202_20140219_121842-160343.csv\")\n"
     ]
    },
    {
     "name": "stdout",
     "output_type": "stream",
     "text": [
      "Nurse sensors record created (file \"./data/Labelled/sensors/N068_20140213_083807-171908.csv\")\nNurse sensors record created (file \"./data/Labelled/sensors/N014_20140210_081824-082136.csv\")\n"
     ]
    },
    {
     "name": "stdout",
     "output_type": "stream",
     "text": [
      "Nurse sensors record created (file \"./data/Labelled/sensors/N050_20140221_115905-154950.csv\")\n"
     ]
    },
    {
     "name": "stdout",
     "output_type": "stream",
     "text": [
      "Nurse sensors record created (file \"./data/Labelled/sensors/N107_20140220_084352-181514.csv\")\nNurse sensors record created (file \"./data/Labelled/sensors/N068_20140219_080856-081020.csv\")\n"
     ]
    },
    {
     "name": "stdout",
     "output_type": "stream",
     "text": [
      "Nurse sensors record created (file \"./data/Labelled/sensors/N202_20140219_085333-111146.csv\")\n"
     ]
    },
    {
     "name": "stdout",
     "output_type": "stream",
     "text": [
      "Nurse sensors record created (file \"./data/Labelled/sensors/N046_20140210_084421-110832.csv\")\n"
     ]
    },
    {
     "name": "stdout",
     "output_type": "stream",
     "text": [
      "Nurse sensors record created (file \"./data/Labelled/sensors/N046_20140228_084402-111711.csv\")\n"
     ]
    },
    {
     "name": "stdout",
     "output_type": "stream",
     "text": [
      "Nurse sensors record created (file \"./data/Labelled/sensors/N045_20140227_090214-110157.csv\")\nNurse sensors record created (file \"./data/Labelled/sensors/N061_20140217_081019-081142.csv\")\n"
     ]
    },
    {
     "name": "stdout",
     "output_type": "stream",
     "text": [
      "Nurse sensors record created (file \"./data/Labelled/sensors/N042_20140227_084332-170157.csv\")\n"
     ]
    },
    {
     "name": "stdout",
     "output_type": "stream",
     "text": [
      "Nurse sensors record created (file \"./data/Labelled/sensors/N013_20140224_084602-111038.csv\")\n"
     ]
    },
    {
     "name": "stdout",
     "output_type": "stream",
     "text": [
      "Nurse sensors record created (file \"./data/Labelled/sensors/N098_20140217_083918-171116.csv\")\n"
     ]
    }
   ],
   "source": [
    "from record import NurseLables, NurseSensorsRecord\n",
    "\n",
    "labels_data = [NurseLables(filepath) for filepath in labels_file_paths]\n",
    "sensors_data = [NurseSensorsRecord(filepath) for filepath in sensors_file_paths]"
   ]
  },
  {
   "cell_type": "code",
   "execution_count": 3,
   "metadata": {},
   "outputs": [
    {
     "ename": "NameError",
     "evalue": "name 'labels_data' is not defined",
     "traceback": [
      "\u001b[0;31m---------------------------------------------------------------------------\u001b[0m",
      "\u001b[0;31mNameError\u001b[0m                                 Traceback (most recent call last)",
      "\u001b[0;32m<ipython-input-3-6b74674c6773>\u001b[0m in \u001b[0;36m<module>\u001b[0;34m()\u001b[0m\n\u001b[1;32m      1\u001b[0m \u001b[0;32mfrom\u001b[0m \u001b[0mclass_extractor\u001b[0m \u001b[0;32mimport\u001b[0m \u001b[0mExtractClasses\u001b[0m\u001b[0;34m\u001b[0m\u001b[0m\n\u001b[0;32m----> 2\u001b[0;31m \u001b[0mtraining_data\u001b[0m \u001b[0;34m=\u001b[0m \u001b[0mExtractClasses\u001b[0m\u001b[0;34m(\u001b[0m\u001b[0mlabel_records\u001b[0m\u001b[0;34m=\u001b[0m\u001b[0mlabels_data\u001b[0m\u001b[0;34m,\u001b[0m \u001b[0msensors_data\u001b[0m\u001b[0;34m=\u001b[0m\u001b[0msensors_data\u001b[0m\u001b[0;34m)\u001b[0m\u001b[0;34m\u001b[0m\u001b[0m\n\u001b[0m",
      "\u001b[0;31mNameError\u001b[0m: name 'labels_data' is not defined"
     ],
     "output_type": "error"
    }
   ],
   "source": [
    "from class_extractor import ExtractClasses\n",
    "training_data = ExtractClasses(label_records=labels_data, sensors_data=sensors_data)"
   ]
  },
  {
   "cell_type": "code",
   "execution_count": null,
   "metadata": {},
   "outputs": [],
   "source": [
    ""
   ]
  }
 ],
 "metadata": {
  "kernelspec": {
   "display_name": "Python 2",
   "language": "python",
   "name": "python2"
  },
  "language_info": {
   "codemirror_mode": {
    "name": "ipython",
    "version": 2.0
   },
   "file_extension": ".py",
   "mimetype": "text/x-python",
   "name": "python",
   "nbconvert_exporter": "python",
   "pygments_lexer": "ipython2",
   "version": "2.7.6"
  }
 },
 "nbformat": 4,
 "nbformat_minor": 0
}